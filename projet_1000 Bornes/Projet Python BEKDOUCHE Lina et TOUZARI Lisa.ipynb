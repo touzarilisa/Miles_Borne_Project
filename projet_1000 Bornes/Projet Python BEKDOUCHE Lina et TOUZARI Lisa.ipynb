{
 "cells": [
  {
   "cell_type": "code",
   "execution_count": 1,
   "metadata": {},
   "outputs": [],
   "source": [
    "from Joueurs import Joueur,IA\n",
    "from Jeu import Jeu\n",
    "from Course import Course\n",
    "from Cartes import  Carte,Distance,Attaque,Parade,Botte\n",
    "import random"
   ]
  },
  {
   "cell_type": "code",
   "execution_count": 2,
   "metadata": {},
   "outputs": [],
   "source": [
    "def main():\n",
    "    print(\"+*************************************+\\n|Bienvenu dans le jeu du 1000 Bornes !|\\n+*************************************+\\n\")\n",
    "    nbJoueurs=int(input(\"Combien de joueurs ? \"))\n",
    "    nom_joueurs_IA,nom_joueurs=[],[]\n",
    "    joueurs=[]\n",
    "    m,n=0,0\n",
    "    for i in range(nbJoueurs):\n",
    "        auto=int(input(\"Votre joueur c'est une IA ? (0: Non ,1: Oui)\"))\n",
    "        if (auto==0):\n",
    "            nom_joueurs.append(input(\"Veuillez entrer le nom du joueur : \"))\n",
    "            joueurs.append(Joueur(nom_joueurs[n]))\n",
    "            n+=1    \n",
    "        else:\n",
    "            nom_joueurs_IA.append(input(\"Veuillez entrer le nom de l'IA: \"))\n",
    "            joueurs.append(IA(nom_joueurs_IA[m]))\n",
    "            m+=1\n",
    "    print(\"------------\\n\")\n",
    "    totCartes=[Botte(\"Increvable\"),Botte(\"Citerne dessence \"),Botte(\"As du volant\"),Botte(\"Vehicule prioritaire\")]+Carte.multiple(Attaque(\"Limite de vitesse\"),4)+Carte.multiple(Attaque(\"feux rouge\"),5-len(joueurs))+Carte.multiple(Attaque(\"Crevaison\"),3)+Carte.multiple(Attaque(\"Accident\"),3)+Carte.multiple(Attaque(\"Panne d'essence\"),3)+Carte.multiple(Parade(\"Fin limite de vitesse\"),6)+Carte.multiple(Parade(\"feux vert\"),14)+Carte.multiple(Parade(\"roue de secours\"),6)+Carte.multiple(Parade(\"Reparation\"),6)+Carte.multiple(Parade(\"Essence\"),6)+Carte.multiple(Distance(\"Escargot\",25),10)+Carte.multiple(Distance(\"Canard\",50),10)+Carte.multiple(Distance(\"Papillon\",75),10)+Carte.multiple(Distance(\"Lievre\",100),12)+Carte.multiple(Distance(\"Guépard\",200),4)\n",
    "    jeu=Jeu(joueurs,totCartes)\n",
    "    course=Course(jeu)\n",
    "    run=True\n",
    "    tour=1\n",
    "    while run:\n",
    "        print(\"Tour : \", tour)\n",
    "        for i in range(nbJoueurs):\n",
    "            jeu.piocher(i)\n",
    "            course.tour(i)\n",
    "            if (joueurs[i].score==1000):\n",
    "                    run=False\n",
    "        tour+=1\n",
    "    print(\"-------------------------\\n\")\n",
    "    print(\"Fin de la partie !\\n\")\n",
    "    print(\"Gagnant : \",joueurs[i].nom)\n",
    "    print(course)  "
   ]
  },
  {
   "cell_type": "code",
   "execution_count": null,
   "metadata": {},
   "outputs": [
    {
     "name": "stdout",
     "output_type": "stream",
     "text": [
      "+*************************************+\n",
      "|Bienvenu dans le jeu du 1000 Bornes !|\n",
      "+*************************************+\n",
      "\n"
     ]
    }
   ],
   "source": [
    "main()"
   ]
  },
  {
   "cell_type": "code",
   "execution_count": null,
   "metadata": {},
   "outputs": [],
   "source": [
    "\n",
    "\n"
   ]
  }
 ],
 "metadata": {
  "kernelspec": {
   "display_name": "Python 3",
   "language": "python",
   "name": "python3"
  },
  "language_info": {
   "codemirror_mode": {
    "name": "ipython",
    "version": 3
   },
   "file_extension": ".py",
   "mimetype": "text/x-python",
   "name": "python",
   "nbconvert_exporter": "python",
   "pygments_lexer": "ipython3",
   "version": "3.6.2"
  }
 },
 "nbformat": 4,
 "nbformat_minor": 2
}
